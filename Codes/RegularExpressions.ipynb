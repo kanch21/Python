{
 "cells": [
  {
   "cell_type": "code",
   "execution_count": 2,
   "metadata": {},
   "outputs": [
    {
     "name": "stdout",
     "output_type": "stream",
     "text": [
      "From: sorv@usf.edu hello2 world2 23/4/2021\n"
     ]
    }
   ],
   "source": [
    "#Regular Expressions\n",
    "#to work on regular exp, use re package\n",
    "import re\n",
    "fopen = open('abc.txt')\n",
    "for line in fopen:\n",
    "    if re.search('^From:' , line):\n",
    "        print(line)\n",
    "#search(^) in re is similar to startswith()"
   ]
  },
  {
   "cell_type": "code",
   "execution_count": 7,
   "metadata": {},
   "outputs": [
    {
     "name": "stdout",
     "output_type": "stream",
     "text": [
      "['234', '2']\n",
      "['e', 'o', 'a', 'a', 'a', 'oo', 'i', 'o', 'oo', 'a', 'ui', 'i', 'u', 'e']\n"
     ]
    }
   ],
   "source": [
    "# re.search()- returns a True/ False depending on whether the string matches or not.\n",
    "#re.findall()- used tp extract the matched string\n",
    "\n",
    "#[0-9]+  means one or more numbers\n",
    "\n",
    "import re\n",
    "\n",
    "x = 'Hello Kanchan! I am looking for Room 234 at building number: 2'\n",
    "#print(re.search('^H', x))\n",
    "y = re.findall('[0-9]+', x)\n",
    "print(y)\n",
    "\n",
    "y = re.findall('[aeiou]+', x)\n",
    "print(y)\n",
    "\n"
   ]
  },
  {
   "cell_type": "code",
   "execution_count": 4,
   "metadata": {},
   "outputs": [
    {
     "name": "stdout",
     "output_type": "stream",
     "text": [
      "['usf.edu']\n"
     ]
    }
   ],
   "source": [
    "#[^ ] means not a space\n",
    "import re\n",
    "x = 'From: kanchanc@usf.edu 13 May 2021 12:2:21'\n",
    "#print(re.search('^H', x))\n",
    "\n",
    "#\n",
    "y = re.findall('@([^ ]*)', x)\n",
    "print(y)"
   ]
  }
 ],
 "metadata": {
  "kernelspec": {
   "display_name": "Python 3",
   "language": "python",
   "name": "python3"
  },
  "language_info": {
   "codemirror_mode": {
    "name": "ipython",
    "version": 3
   },
   "file_extension": ".py",
   "mimetype": "text/x-python",
   "name": "python",
   "nbconvert_exporter": "python",
   "pygments_lexer": "ipython3",
   "version": "3.8.5"
  }
 },
 "nbformat": 4,
 "nbformat_minor": 4
}
