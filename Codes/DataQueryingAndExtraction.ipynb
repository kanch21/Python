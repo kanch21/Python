{
 "cells": [
  {
   "cell_type": "code",
   "execution_count": 63,
   "metadata": {},
   "outputs": [],
   "source": [
    "import pyodbc\n",
    "import pandas as pd"
   ]
  },
  {
   "cell_type": "code",
   "execution_count": 65,
   "metadata": {},
   "outputs": [],
   "source": [
    "cnxn_str = (\"Driver={SQL Server Native Client 11.0};\"\n",
    "            \"Server=DESKTOP-DPJBSNT;\"\n",
    "            \"Database=AdventureWorks2019;\"\n",
    "            \"Trusted_Connection=yes;\"\n",
    "            \"UID=kanchanc;\"\n",
    "            \"PWD=StudyItIs@2108;\")\n",
    "\n",
    "def HandleHierarchyId(v):\n",
    "      return str(v)"
   ]
  },
  {
   "cell_type": "code",
   "execution_count": 66,
   "metadata": {},
   "outputs": [
    {
     "name": "stdout",
     "output_type": "stream",
     "text": [
      "connection established successfully! :)\n"
     ]
    }
   ],
   "source": [
    "cnxn = pyodbc.connect(cnxn_str)\n",
    "cnxn.add_output_converter(-151, HandleHierarchyId)\n",
    "print(\"connection established successfully! :)\")"
   ]
  },
  {
   "cell_type": "code",
   "execution_count": 68,
   "metadata": {},
   "outputs": [],
   "source": [
    "#creating the cursor to execute sql queries\n",
    "cursor = cnxn.cursor()\n",
    "query= \"select TOP 10 * from HumanResources.Employee\""
   ]
  },
  {
   "cell_type": "code",
   "execution_count": 69,
   "metadata": {},
   "outputs": [
    {
     "data": {
      "text/plain": [
       "[(1, '295847284', 'adventure-works\\\\ken0', None, None, 'Chief Executive Officer', datetime.date(1969, 1, 29), 'S', 'M', datetime.date(2009, 1, 14), True, 99, 69, True, 'F01251E5-96A3-448D-981E-0F99D789110D', datetime.datetime(2014, 6, 30, 0, 0)),\n",
       " (2, '245797967', 'adventure-works\\\\terri0', \"b'X'\", 1, 'Vice President of Engineering', datetime.date(1971, 8, 1), 'S', 'F', datetime.date(2008, 1, 31), True, 1, 20, True, '45E8F437-670D-4409-93CB-F9424A40D6EE', datetime.datetime(2014, 6, 30, 0, 0)),\n",
       " (3, '509647174', 'adventure-works\\\\roberto0', \"b'Z\\\\xc0'\", 2, 'Engineering Manager', datetime.date(1974, 11, 12), 'M', 'M', datetime.date(2007, 11, 11), True, 2, 21, True, '9BBBFB2C-EFBB-4217-9AB7-F97689328841', datetime.datetime(2014, 6, 30, 0, 0)),\n",
       " (4, '112457891', 'adventure-works\\\\rob0', \"b'Z\\\\xd6'\", 3, 'Senior Tool Designer', datetime.date(1974, 12, 23), 'S', 'M', datetime.date(2007, 12, 5), False, 48, 80, True, '59747955-87B8-443F-8ED4-F8AD3AFDF3A9', datetime.datetime(2014, 6, 30, 0, 0)),\n",
       " (5, '695256908', 'adventure-works\\\\gail0', \"b'Z\\\\xda'\", 3, 'Design Engineer', datetime.date(1952, 9, 27), 'M', 'F', datetime.date(2008, 1, 6), True, 5, 22, True, 'EC84AE09-F9B8-4A15-B4A9-6CCBAB919B08', datetime.datetime(2014, 6, 30, 0, 0)),\n",
       " (6, '998320692', 'adventure-works\\\\jossef0', \"b'Z\\\\xde'\", 3, 'Design Engineer', datetime.date(1959, 3, 11), 'M', 'M', datetime.date(2008, 1, 24), True, 6, 23, True, 'E39056F1-9CD5-478D-8945-14ACA7FBDCDD', datetime.datetime(2014, 6, 30, 0, 0)),\n",
       " (7, '134969118', 'adventure-works\\\\dylan0', \"b'Z\\\\xe1'\", 3, 'Research and Development Manager', datetime.date(1987, 2, 24), 'M', 'M', datetime.date(2009, 2, 8), True, 61, 50, True, '4F46DECA-EF01-41FD-9829-0ADAB368E431', datetime.datetime(2014, 6, 30, 0, 0)),\n",
       " (8, '811994146', 'adventure-works\\\\diane1', \"b'Z\\\\xe1X'\", 4, 'Research and Development Engineer', datetime.date(1986, 6, 5), 'S', 'F', datetime.date(2008, 12, 29), True, 62, 51, True, '31112635-663B-4018-B4A2-A685C0BF48A4', datetime.datetime(2014, 6, 30, 0, 0)),\n",
       " (9, '658797903', 'adventure-works\\\\gigi0', \"b'Z\\\\xe1h'\", 4, 'Research and Development Engineer', datetime.date(1979, 1, 21), 'M', 'F', datetime.date(2009, 1, 16), True, 63, 51, True, '50B6CDC6-7570-47EF-9570-48A64B5F2ECF', datetime.datetime(2014, 6, 30, 0, 0)),\n",
       " (10, '879342154', 'adventure-works\\\\michael6', \"b'Z\\\\xe1x'\", 4, 'Research and Development Manager', datetime.date(1984, 11, 30), 'M', 'M', datetime.date(2009, 5, 3), True, 16, 64, True, 'EAA43680-5571-40CB-AB1A-3BF68F04459E', datetime.datetime(2014, 6, 30, 0, 0))]"
      ]
     },
     "execution_count": 69,
     "metadata": {},
     "output_type": "execute_result"
    }
   ],
   "source": [
    "cursor.execute(query).fetchall()"
   ]
  },
  {
   "cell_type": "code",
   "execution_count": 70,
   "metadata": {},
   "outputs": [],
   "source": [
    "data = pd.read_sql(query, cnxn)\n"
   ]
  },
  {
   "cell_type": "code",
   "execution_count": 71,
   "metadata": {},
   "outputs": [
    {
     "data": {
      "text/html": [
       "<div>\n",
       "<style scoped>\n",
       "    .dataframe tbody tr th:only-of-type {\n",
       "        vertical-align: middle;\n",
       "    }\n",
       "\n",
       "    .dataframe tbody tr th {\n",
       "        vertical-align: top;\n",
       "    }\n",
       "\n",
       "    .dataframe thead th {\n",
       "        text-align: right;\n",
       "    }\n",
       "</style>\n",
       "<table border=\"1\" class=\"dataframe\">\n",
       "  <thead>\n",
       "    <tr style=\"text-align: right;\">\n",
       "      <th></th>\n",
       "      <th>BusinessEntityID</th>\n",
       "      <th>NationalIDNumber</th>\n",
       "      <th>LoginID</th>\n",
       "      <th>OrganizationNode</th>\n",
       "      <th>OrganizationLevel</th>\n",
       "      <th>JobTitle</th>\n",
       "      <th>BirthDate</th>\n",
       "      <th>MaritalStatus</th>\n",
       "      <th>Gender</th>\n",
       "      <th>HireDate</th>\n",
       "      <th>SalariedFlag</th>\n",
       "      <th>VacationHours</th>\n",
       "      <th>SickLeaveHours</th>\n",
       "      <th>CurrentFlag</th>\n",
       "      <th>rowguid</th>\n",
       "      <th>ModifiedDate</th>\n",
       "    </tr>\n",
       "  </thead>\n",
       "  <tbody>\n",
       "    <tr>\n",
       "      <th>0</th>\n",
       "      <td>1</td>\n",
       "      <td>295847284</td>\n",
       "      <td>adventure-works\\ken0</td>\n",
       "      <td>None</td>\n",
       "      <td>NaN</td>\n",
       "      <td>Chief Executive Officer</td>\n",
       "      <td>1969-01-29</td>\n",
       "      <td>S</td>\n",
       "      <td>M</td>\n",
       "      <td>2009-01-14</td>\n",
       "      <td>True</td>\n",
       "      <td>99</td>\n",
       "      <td>69</td>\n",
       "      <td>True</td>\n",
       "      <td>F01251E5-96A3-448D-981E-0F99D789110D</td>\n",
       "      <td>2014-06-30</td>\n",
       "    </tr>\n",
       "    <tr>\n",
       "      <th>1</th>\n",
       "      <td>2</td>\n",
       "      <td>245797967</td>\n",
       "      <td>adventure-works\\terri0</td>\n",
       "      <td>b'X'</td>\n",
       "      <td>1.0</td>\n",
       "      <td>Vice President of Engineering</td>\n",
       "      <td>1971-08-01</td>\n",
       "      <td>S</td>\n",
       "      <td>F</td>\n",
       "      <td>2008-01-31</td>\n",
       "      <td>True</td>\n",
       "      <td>1</td>\n",
       "      <td>20</td>\n",
       "      <td>True</td>\n",
       "      <td>45E8F437-670D-4409-93CB-F9424A40D6EE</td>\n",
       "      <td>2014-06-30</td>\n",
       "    </tr>\n",
       "    <tr>\n",
       "      <th>2</th>\n",
       "      <td>3</td>\n",
       "      <td>509647174</td>\n",
       "      <td>adventure-works\\roberto0</td>\n",
       "      <td>b'Z\\xc0'</td>\n",
       "      <td>2.0</td>\n",
       "      <td>Engineering Manager</td>\n",
       "      <td>1974-11-12</td>\n",
       "      <td>M</td>\n",
       "      <td>M</td>\n",
       "      <td>2007-11-11</td>\n",
       "      <td>True</td>\n",
       "      <td>2</td>\n",
       "      <td>21</td>\n",
       "      <td>True</td>\n",
       "      <td>9BBBFB2C-EFBB-4217-9AB7-F97689328841</td>\n",
       "      <td>2014-06-30</td>\n",
       "    </tr>\n",
       "    <tr>\n",
       "      <th>3</th>\n",
       "      <td>4</td>\n",
       "      <td>112457891</td>\n",
       "      <td>adventure-works\\rob0</td>\n",
       "      <td>b'Z\\xd6'</td>\n",
       "      <td>3.0</td>\n",
       "      <td>Senior Tool Designer</td>\n",
       "      <td>1974-12-23</td>\n",
       "      <td>S</td>\n",
       "      <td>M</td>\n",
       "      <td>2007-12-05</td>\n",
       "      <td>False</td>\n",
       "      <td>48</td>\n",
       "      <td>80</td>\n",
       "      <td>True</td>\n",
       "      <td>59747955-87B8-443F-8ED4-F8AD3AFDF3A9</td>\n",
       "      <td>2014-06-30</td>\n",
       "    </tr>\n",
       "    <tr>\n",
       "      <th>4</th>\n",
       "      <td>5</td>\n",
       "      <td>695256908</td>\n",
       "      <td>adventure-works\\gail0</td>\n",
       "      <td>b'Z\\xda'</td>\n",
       "      <td>3.0</td>\n",
       "      <td>Design Engineer</td>\n",
       "      <td>1952-09-27</td>\n",
       "      <td>M</td>\n",
       "      <td>F</td>\n",
       "      <td>2008-01-06</td>\n",
       "      <td>True</td>\n",
       "      <td>5</td>\n",
       "      <td>22</td>\n",
       "      <td>True</td>\n",
       "      <td>EC84AE09-F9B8-4A15-B4A9-6CCBAB919B08</td>\n",
       "      <td>2014-06-30</td>\n",
       "    </tr>\n",
       "    <tr>\n",
       "      <th>5</th>\n",
       "      <td>6</td>\n",
       "      <td>998320692</td>\n",
       "      <td>adventure-works\\jossef0</td>\n",
       "      <td>b'Z\\xde'</td>\n",
       "      <td>3.0</td>\n",
       "      <td>Design Engineer</td>\n",
       "      <td>1959-03-11</td>\n",
       "      <td>M</td>\n",
       "      <td>M</td>\n",
       "      <td>2008-01-24</td>\n",
       "      <td>True</td>\n",
       "      <td>6</td>\n",
       "      <td>23</td>\n",
       "      <td>True</td>\n",
       "      <td>E39056F1-9CD5-478D-8945-14ACA7FBDCDD</td>\n",
       "      <td>2014-06-30</td>\n",
       "    </tr>\n",
       "    <tr>\n",
       "      <th>6</th>\n",
       "      <td>7</td>\n",
       "      <td>134969118</td>\n",
       "      <td>adventure-works\\dylan0</td>\n",
       "      <td>b'Z\\xe1'</td>\n",
       "      <td>3.0</td>\n",
       "      <td>Research and Development Manager</td>\n",
       "      <td>1987-02-24</td>\n",
       "      <td>M</td>\n",
       "      <td>M</td>\n",
       "      <td>2009-02-08</td>\n",
       "      <td>True</td>\n",
       "      <td>61</td>\n",
       "      <td>50</td>\n",
       "      <td>True</td>\n",
       "      <td>4F46DECA-EF01-41FD-9829-0ADAB368E431</td>\n",
       "      <td>2014-06-30</td>\n",
       "    </tr>\n",
       "    <tr>\n",
       "      <th>7</th>\n",
       "      <td>8</td>\n",
       "      <td>811994146</td>\n",
       "      <td>adventure-works\\diane1</td>\n",
       "      <td>b'Z\\xe1X'</td>\n",
       "      <td>4.0</td>\n",
       "      <td>Research and Development Engineer</td>\n",
       "      <td>1986-06-05</td>\n",
       "      <td>S</td>\n",
       "      <td>F</td>\n",
       "      <td>2008-12-29</td>\n",
       "      <td>True</td>\n",
       "      <td>62</td>\n",
       "      <td>51</td>\n",
       "      <td>True</td>\n",
       "      <td>31112635-663B-4018-B4A2-A685C0BF48A4</td>\n",
       "      <td>2014-06-30</td>\n",
       "    </tr>\n",
       "    <tr>\n",
       "      <th>8</th>\n",
       "      <td>9</td>\n",
       "      <td>658797903</td>\n",
       "      <td>adventure-works\\gigi0</td>\n",
       "      <td>b'Z\\xe1h'</td>\n",
       "      <td>4.0</td>\n",
       "      <td>Research and Development Engineer</td>\n",
       "      <td>1979-01-21</td>\n",
       "      <td>M</td>\n",
       "      <td>F</td>\n",
       "      <td>2009-01-16</td>\n",
       "      <td>True</td>\n",
       "      <td>63</td>\n",
       "      <td>51</td>\n",
       "      <td>True</td>\n",
       "      <td>50B6CDC6-7570-47EF-9570-48A64B5F2ECF</td>\n",
       "      <td>2014-06-30</td>\n",
       "    </tr>\n",
       "    <tr>\n",
       "      <th>9</th>\n",
       "      <td>10</td>\n",
       "      <td>879342154</td>\n",
       "      <td>adventure-works\\michael6</td>\n",
       "      <td>b'Z\\xe1x'</td>\n",
       "      <td>4.0</td>\n",
       "      <td>Research and Development Manager</td>\n",
       "      <td>1984-11-30</td>\n",
       "      <td>M</td>\n",
       "      <td>M</td>\n",
       "      <td>2009-05-03</td>\n",
       "      <td>True</td>\n",
       "      <td>16</td>\n",
       "      <td>64</td>\n",
       "      <td>True</td>\n",
       "      <td>EAA43680-5571-40CB-AB1A-3BF68F04459E</td>\n",
       "      <td>2014-06-30</td>\n",
       "    </tr>\n",
       "  </tbody>\n",
       "</table>\n",
       "</div>"
      ],
      "text/plain": [
       "   BusinessEntityID NationalIDNumber                   LoginID  \\\n",
       "0                 1        295847284      adventure-works\\ken0   \n",
       "1                 2        245797967    adventure-works\\terri0   \n",
       "2                 3        509647174  adventure-works\\roberto0   \n",
       "3                 4        112457891      adventure-works\\rob0   \n",
       "4                 5        695256908     adventure-works\\gail0   \n",
       "5                 6        998320692   adventure-works\\jossef0   \n",
       "6                 7        134969118    adventure-works\\dylan0   \n",
       "7                 8        811994146    adventure-works\\diane1   \n",
       "8                 9        658797903     adventure-works\\gigi0   \n",
       "9                10        879342154  adventure-works\\michael6   \n",
       "\n",
       "  OrganizationNode  OrganizationLevel                           JobTitle  \\\n",
       "0             None                NaN            Chief Executive Officer   \n",
       "1             b'X'                1.0      Vice President of Engineering   \n",
       "2         b'Z\\xc0'                2.0                Engineering Manager   \n",
       "3         b'Z\\xd6'                3.0               Senior Tool Designer   \n",
       "4         b'Z\\xda'                3.0                    Design Engineer   \n",
       "5         b'Z\\xde'                3.0                    Design Engineer   \n",
       "6         b'Z\\xe1'                3.0   Research and Development Manager   \n",
       "7        b'Z\\xe1X'                4.0  Research and Development Engineer   \n",
       "8        b'Z\\xe1h'                4.0  Research and Development Engineer   \n",
       "9        b'Z\\xe1x'                4.0   Research and Development Manager   \n",
       "\n",
       "    BirthDate MaritalStatus Gender    HireDate  SalariedFlag  VacationHours  \\\n",
       "0  1969-01-29             S      M  2009-01-14          True             99   \n",
       "1  1971-08-01             S      F  2008-01-31          True              1   \n",
       "2  1974-11-12             M      M  2007-11-11          True              2   \n",
       "3  1974-12-23             S      M  2007-12-05         False             48   \n",
       "4  1952-09-27             M      F  2008-01-06          True              5   \n",
       "5  1959-03-11             M      M  2008-01-24          True              6   \n",
       "6  1987-02-24             M      M  2009-02-08          True             61   \n",
       "7  1986-06-05             S      F  2008-12-29          True             62   \n",
       "8  1979-01-21             M      F  2009-01-16          True             63   \n",
       "9  1984-11-30             M      M  2009-05-03          True             16   \n",
       "\n",
       "   SickLeaveHours  CurrentFlag                               rowguid  \\\n",
       "0              69         True  F01251E5-96A3-448D-981E-0F99D789110D   \n",
       "1              20         True  45E8F437-670D-4409-93CB-F9424A40D6EE   \n",
       "2              21         True  9BBBFB2C-EFBB-4217-9AB7-F97689328841   \n",
       "3              80         True  59747955-87B8-443F-8ED4-F8AD3AFDF3A9   \n",
       "4              22         True  EC84AE09-F9B8-4A15-B4A9-6CCBAB919B08   \n",
       "5              23         True  E39056F1-9CD5-478D-8945-14ACA7FBDCDD   \n",
       "6              50         True  4F46DECA-EF01-41FD-9829-0ADAB368E431   \n",
       "7              51         True  31112635-663B-4018-B4A2-A685C0BF48A4   \n",
       "8              51         True  50B6CDC6-7570-47EF-9570-48A64B5F2ECF   \n",
       "9              64         True  EAA43680-5571-40CB-AB1A-3BF68F04459E   \n",
       "\n",
       "  ModifiedDate  \n",
       "0   2014-06-30  \n",
       "1   2014-06-30  \n",
       "2   2014-06-30  \n",
       "3   2014-06-30  \n",
       "4   2014-06-30  \n",
       "5   2014-06-30  \n",
       "6   2014-06-30  \n",
       "7   2014-06-30  \n",
       "8   2014-06-30  \n",
       "9   2014-06-30  "
      ]
     },
     "execution_count": 71,
     "metadata": {},
     "output_type": "execute_result"
    }
   ],
   "source": [
    "data"
   ]
  },
  {
   "cell_type": "code",
   "execution_count": 72,
   "metadata": {},
   "outputs": [],
   "source": [
    "from sqlalchemy import create_engine"
   ]
  },
  {
   "cell_type": "code",
   "execution_count": 73,
   "metadata": {},
   "outputs": [],
   "source": [
    "def creator():\n",
    "    return pyodbc.connect(cnxn_str)"
   ]
  },
  {
   "cell_type": "code",
   "execution_count": 74,
   "metadata": {},
   "outputs": [],
   "source": [
    "engine = create_engine(\"mssql+pyodbc://\", creator=creator)"
   ]
  },
  {
   "cell_type": "code",
   "execution_count": 78,
   "metadata": {},
   "outputs": [],
   "source": [
    "connection=engine.connect()"
   ]
  },
  {
   "cell_type": "code",
   "execution_count": 79,
   "metadata": {},
   "outputs": [
    {
     "ename": "ValueError",
     "evalue": "Table HumanResources.Employee not found",
     "output_type": "error",
     "traceback": [
      "\u001b[1;31m---------------------------------------------------------------------------\u001b[0m",
      "\u001b[1;31mInvalidRequestError\u001b[0m                       Traceback (most recent call last)",
      "\u001b[1;32m~\\anaconda3\\lib\\site-packages\\pandas\\io\\sql.py\u001b[0m in \u001b[0;36mread_sql_table\u001b[1;34m(table_name, con, schema, index_col, coerce_float, parse_dates, columns, chunksize)\u001b[0m\n\u001b[0;32m    268\u001b[0m     \u001b[1;32mtry\u001b[0m\u001b[1;33m:\u001b[0m\u001b[1;33m\u001b[0m\u001b[1;33m\u001b[0m\u001b[0m\n\u001b[1;32m--> 269\u001b[1;33m         \u001b[0mmeta\u001b[0m\u001b[1;33m.\u001b[0m\u001b[0mreflect\u001b[0m\u001b[1;33m(\u001b[0m\u001b[0monly\u001b[0m\u001b[1;33m=\u001b[0m\u001b[1;33m[\u001b[0m\u001b[0mtable_name\u001b[0m\u001b[1;33m]\u001b[0m\u001b[1;33m,\u001b[0m \u001b[0mviews\u001b[0m\u001b[1;33m=\u001b[0m\u001b[1;32mTrue\u001b[0m\u001b[1;33m)\u001b[0m\u001b[1;33m\u001b[0m\u001b[1;33m\u001b[0m\u001b[0m\n\u001b[0m\u001b[0;32m    270\u001b[0m     \u001b[1;32mexcept\u001b[0m \u001b[0msqlalchemy\u001b[0m\u001b[1;33m.\u001b[0m\u001b[0mexc\u001b[0m\u001b[1;33m.\u001b[0m\u001b[0mInvalidRequestError\u001b[0m \u001b[1;32mas\u001b[0m \u001b[0merr\u001b[0m\u001b[1;33m:\u001b[0m\u001b[1;33m\u001b[0m\u001b[1;33m\u001b[0m\u001b[0m\n",
      "\u001b[1;32m~\\anaconda3\\lib\\site-packages\\sqlalchemy\\sql\\schema.py\u001b[0m in \u001b[0;36mreflect\u001b[1;34m(self, bind, schema, views, only, extend_existing, autoload_replace, resolve_fks, **dialect_kwargs)\u001b[0m\n\u001b[0;32m   4498\u001b[0m                     \u001b[0ms\u001b[0m \u001b[1;33m=\u001b[0m \u001b[0mschema\u001b[0m \u001b[1;32mand\u001b[0m \u001b[1;33m(\u001b[0m\u001b[1;34m\" schema '%s'\"\u001b[0m \u001b[1;33m%\u001b[0m \u001b[0mschema\u001b[0m\u001b[1;33m)\u001b[0m \u001b[1;32mor\u001b[0m \u001b[1;34m\"\"\u001b[0m\u001b[1;33m\u001b[0m\u001b[1;33m\u001b[0m\u001b[0m\n\u001b[1;32m-> 4499\u001b[1;33m                     raise exc.InvalidRequestError(\n\u001b[0m\u001b[0;32m   4500\u001b[0m                         \u001b[1;34m\"Could not reflect: requested table(s) not available \"\u001b[0m\u001b[1;33m\u001b[0m\u001b[1;33m\u001b[0m\u001b[0m\n",
      "\u001b[1;31mInvalidRequestError\u001b[0m: Could not reflect: requested table(s) not available in Engine(mssql+pyodbc://): (HumanResources.Employee)",
      "\nThe above exception was the direct cause of the following exception:\n",
      "\u001b[1;31mValueError\u001b[0m                                Traceback (most recent call last)",
      "\u001b[1;32m<ipython-input-79-cdb207295b64>\u001b[0m in \u001b[0;36m<module>\u001b[1;34m\u001b[0m\n\u001b[1;32m----> 1\u001b[1;33m \u001b[0mdf\u001b[0m\u001b[1;33m=\u001b[0m \u001b[0mpd\u001b[0m\u001b[1;33m.\u001b[0m\u001b[0mread_sql_table\u001b[0m\u001b[1;33m(\u001b[0m\u001b[1;34m'HumanResources.Employee'\u001b[0m\u001b[1;33m,\u001b[0m \u001b[0mcon\u001b[0m\u001b[1;33m=\u001b[0m\u001b[0mconnection\u001b[0m\u001b[1;33m)\u001b[0m\u001b[1;33m\u001b[0m\u001b[1;33m\u001b[0m\u001b[0m\n\u001b[0m",
      "\u001b[1;32m~\\anaconda3\\lib\\site-packages\\pandas\\io\\sql.py\u001b[0m in \u001b[0;36mread_sql_table\u001b[1;34m(table_name, con, schema, index_col, coerce_float, parse_dates, columns, chunksize)\u001b[0m\n\u001b[0;32m    269\u001b[0m         \u001b[0mmeta\u001b[0m\u001b[1;33m.\u001b[0m\u001b[0mreflect\u001b[0m\u001b[1;33m(\u001b[0m\u001b[0monly\u001b[0m\u001b[1;33m=\u001b[0m\u001b[1;33m[\u001b[0m\u001b[0mtable_name\u001b[0m\u001b[1;33m]\u001b[0m\u001b[1;33m,\u001b[0m \u001b[0mviews\u001b[0m\u001b[1;33m=\u001b[0m\u001b[1;32mTrue\u001b[0m\u001b[1;33m)\u001b[0m\u001b[1;33m\u001b[0m\u001b[1;33m\u001b[0m\u001b[0m\n\u001b[0;32m    270\u001b[0m     \u001b[1;32mexcept\u001b[0m \u001b[0msqlalchemy\u001b[0m\u001b[1;33m.\u001b[0m\u001b[0mexc\u001b[0m\u001b[1;33m.\u001b[0m\u001b[0mInvalidRequestError\u001b[0m \u001b[1;32mas\u001b[0m \u001b[0merr\u001b[0m\u001b[1;33m:\u001b[0m\u001b[1;33m\u001b[0m\u001b[1;33m\u001b[0m\u001b[0m\n\u001b[1;32m--> 271\u001b[1;33m         \u001b[1;32mraise\u001b[0m \u001b[0mValueError\u001b[0m\u001b[1;33m(\u001b[0m\u001b[1;34mf\"Table {table_name} not found\"\u001b[0m\u001b[1;33m)\u001b[0m \u001b[1;32mfrom\u001b[0m \u001b[0merr\u001b[0m\u001b[1;33m\u001b[0m\u001b[1;33m\u001b[0m\u001b[0m\n\u001b[0m\u001b[0;32m    272\u001b[0m \u001b[1;33m\u001b[0m\u001b[0m\n\u001b[0;32m    273\u001b[0m     \u001b[0mpandas_sql\u001b[0m \u001b[1;33m=\u001b[0m \u001b[0mSQLDatabase\u001b[0m\u001b[1;33m(\u001b[0m\u001b[0mcon\u001b[0m\u001b[1;33m,\u001b[0m \u001b[0mmeta\u001b[0m\u001b[1;33m=\u001b[0m\u001b[0mmeta\u001b[0m\u001b[1;33m)\u001b[0m\u001b[1;33m\u001b[0m\u001b[1;33m\u001b[0m\u001b[0m\n",
      "\u001b[1;31mValueError\u001b[0m: Table HumanResources.Employee not found"
     ]
    }
   ],
   "source": [
    "df= pd.read_sql_table('HumanResources.Employee', con=connection)"
   ]
  },
  {
   "cell_type": "code",
   "execution_count": 85,
   "metadata": {},
   "outputs": [],
   "source": [
    "html_url= \"https://en.wikipedia.org/wiki/List_of_Bollywood_films_of_2020\""
   ]
  },
  {
   "cell_type": "code",
   "execution_count": 86,
   "metadata": {},
   "outputs": [],
   "source": [
    "table= pd.read_html(html_url)"
   ]
  },
  {
   "cell_type": "code",
   "execution_count": 87,
   "metadata": {},
   "outputs": [
    {
     "data": {
      "text/plain": [
       "14"
      ]
     },
     "execution_count": 87,
     "metadata": {},
     "output_type": "execute_result"
    }
   ],
   "source": [
    "len(table)"
   ]
  },
  {
   "cell_type": "code",
   "execution_count": 92,
   "metadata": {},
   "outputs": [],
   "source": [
    "t=table[13]"
   ]
  },
  {
   "cell_type": "code",
   "execution_count": 93,
   "metadata": {},
   "outputs": [
    {
     "data": {
      "text/html": [
       "<div>\n",
       "<style scoped>\n",
       "    .dataframe tbody tr th:only-of-type {\n",
       "        vertical-align: middle;\n",
       "    }\n",
       "\n",
       "    .dataframe tbody tr th {\n",
       "        vertical-align: top;\n",
       "    }\n",
       "\n",
       "    .dataframe thead th {\n",
       "        text-align: right;\n",
       "    }\n",
       "</style>\n",
       "<table border=\"1\" class=\"dataframe\">\n",
       "  <thead>\n",
       "    <tr style=\"text-align: right;\">\n",
       "      <th></th>\n",
       "      <th>0</th>\n",
       "      <th>1</th>\n",
       "    </tr>\n",
       "  </thead>\n",
       "  <tbody>\n",
       "    <tr>\n",
       "      <th>0</th>\n",
       "      <td>Caribbean</td>\n",
       "      <td>Antigua and Barbuda Aruba Bahamas Barbados Cub...</td>\n",
       "    </tr>\n",
       "    <tr>\n",
       "      <th>1</th>\n",
       "      <td>Central</td>\n",
       "      <td>Costa Rica Guatemala Honduras Nicaragua Panama</td>\n",
       "    </tr>\n",
       "    <tr>\n",
       "      <th>2</th>\n",
       "      <td>Northern</td>\n",
       "      <td>Canada Greenland Mexico United States</td>\n",
       "    </tr>\n",
       "  </tbody>\n",
       "</table>\n",
       "</div>"
      ],
      "text/plain": [
       "           0                                                  1\n",
       "0  Caribbean  Antigua and Barbuda Aruba Bahamas Barbados Cub...\n",
       "1    Central     Costa Rica Guatemala Honduras Nicaragua Panama\n",
       "2   Northern              Canada Greenland Mexico United States"
      ]
     },
     "execution_count": 93,
     "metadata": {},
     "output_type": "execute_result"
    }
   ],
   "source": [
    "t.head()"
   ]
  },
  {
   "cell_type": "code",
   "execution_count": 94,
   "metadata": {},
   "outputs": [],
   "source": [
    "import requests"
   ]
  },
  {
   "cell_type": "code",
   "execution_count": 95,
   "metadata": {},
   "outputs": [],
   "source": [
    "html_url2= \"https://en.wikipedia.org/wiki/The_Simpsons\""
   ]
  },
  {
   "cell_type": "code",
   "execution_count": 97,
   "metadata": {},
   "outputs": [
    {
     "name": "stdout",
     "output_type": "stream",
     "text": [
      "200\n"
     ]
    }
   ],
   "source": [
    "r=requests.get(html_url2)\n",
    "print(r.status_code)"
   ]
  },
  {
   "cell_type": "code",
   "execution_count": 98,
   "metadata": {},
   "outputs": [],
   "source": [
    "wiki_tables=pd.read_html(r.text,header = 0)"
   ]
  },
  {
   "cell_type": "code",
   "execution_count": 99,
   "metadata": {},
   "outputs": [
    {
     "data": {
      "text/plain": [
       "31"
      ]
     },
     "execution_count": 99,
     "metadata": {},
     "output_type": "execute_result"
    }
   ],
   "source": [
    "len(wiki_tables)"
   ]
  },
  {
   "cell_type": "code",
   "execution_count": 105,
   "metadata": {},
   "outputs": [],
   "source": [
    "simpsons = wiki_tables[1]"
   ]
  },
  {
   "cell_type": "code",
   "execution_count": 106,
   "metadata": {},
   "outputs": [
    {
     "data": {
      "text/html": [
       "<div>\n",
       "<style scoped>\n",
       "    .dataframe tbody tr th:only-of-type {\n",
       "        vertical-align: middle;\n",
       "    }\n",
       "\n",
       "    .dataframe tbody tr th {\n",
       "        vertical-align: top;\n",
       "    }\n",
       "\n",
       "    .dataframe thead th {\n",
       "        text-align: right;\n",
       "    }\n",
       "</style>\n",
       "<table border=\"1\" class=\"dataframe\">\n",
       "  <thead>\n",
       "    <tr style=\"text-align: right;\">\n",
       "      <th></th>\n",
       "      <th>Season</th>\n",
       "      <th>Season.1</th>\n",
       "      <th>No. ofepisodes</th>\n",
       "      <th>Originally aired</th>\n",
       "      <th>Originally aired.1</th>\n",
       "      <th>Originally aired.2</th>\n",
       "      <th>Viewership</th>\n",
       "      <th>Viewership.1</th>\n",
       "      <th>Viewership.2</th>\n",
       "    </tr>\n",
       "  </thead>\n",
       "  <tbody>\n",
       "    <tr>\n",
       "      <th>0</th>\n",
       "      <td>Season</td>\n",
       "      <td>Season</td>\n",
       "      <td>No. ofepisodes</td>\n",
       "      <td>Season premiere</td>\n",
       "      <td>Season finale</td>\n",
       "      <td>Time slot (ET)</td>\n",
       "      <td>Avg. viewers(in millions)</td>\n",
       "      <td>Most watched episode</td>\n",
       "      <td>Most watched episode</td>\n",
       "    </tr>\n",
       "    <tr>\n",
       "      <th>1</th>\n",
       "      <td>Season</td>\n",
       "      <td>Season</td>\n",
       "      <td>No. ofepisodes</td>\n",
       "      <td>Season premiere</td>\n",
       "      <td>Season finale</td>\n",
       "      <td>Time slot (ET)</td>\n",
       "      <td>Avg. viewers(in millions)</td>\n",
       "      <td>Viewers(millions)</td>\n",
       "      <td>Episode title</td>\n",
       "    </tr>\n",
       "    <tr>\n",
       "      <th>2</th>\n",
       "      <td>1</td>\n",
       "      <td>1989–90</td>\n",
       "      <td>13</td>\n",
       "      <td>December 17, 1989</td>\n",
       "      <td>May 13, 1990</td>\n",
       "      <td>Sunday 8:30 pm</td>\n",
       "      <td>27.8</td>\n",
       "      <td>33.5</td>\n",
       "      <td>\"Life on the Fast Lane\"</td>\n",
       "    </tr>\n",
       "    <tr>\n",
       "      <th>3</th>\n",
       "      <td>2</td>\n",
       "      <td>1990–91</td>\n",
       "      <td>22</td>\n",
       "      <td>October 11, 1990</td>\n",
       "      <td>July 11, 1991</td>\n",
       "      <td>Thursday 8:00 pm</td>\n",
       "      <td>24.4</td>\n",
       "      <td>33.6</td>\n",
       "      <td>\"Bart Gets an F\"</td>\n",
       "    </tr>\n",
       "    <tr>\n",
       "      <th>4</th>\n",
       "      <td>3</td>\n",
       "      <td>1991–92</td>\n",
       "      <td>24</td>\n",
       "      <td>September 19, 1991</td>\n",
       "      <td>August 27, 1992</td>\n",
       "      <td>Thursday 8:00 pm</td>\n",
       "      <td>21.8</td>\n",
       "      <td>25.5</td>\n",
       "      <td>\"Colonel Homer\"</td>\n",
       "    </tr>\n",
       "  </tbody>\n",
       "</table>\n",
       "</div>"
      ],
      "text/plain": [
       "   Season Season.1  No. ofepisodes    Originally aired Originally aired.1  \\\n",
       "0  Season   Season  No. ofepisodes     Season premiere      Season finale   \n",
       "1  Season   Season  No. ofepisodes     Season premiere      Season finale   \n",
       "2       1  1989–90              13   December 17, 1989       May 13, 1990   \n",
       "3       2  1990–91              22    October 11, 1990      July 11, 1991   \n",
       "4       3  1991–92              24  September 19, 1991    August 27, 1992   \n",
       "\n",
       "  Originally aired.2                 Viewership          Viewership.1  \\\n",
       "0     Time slot (ET)  Avg. viewers(in millions)  Most watched episode   \n",
       "1     Time slot (ET)  Avg. viewers(in millions)     Viewers(millions)   \n",
       "2     Sunday 8:30 pm                       27.8                  33.5   \n",
       "3   Thursday 8:00 pm                       24.4                  33.6   \n",
       "4   Thursday 8:00 pm                       21.8                  25.5   \n",
       "\n",
       "              Viewership.2  \n",
       "0     Most watched episode  \n",
       "1            Episode title  \n",
       "2  \"Life on the Fast Lane\"  \n",
       "3         \"Bart Gets an F\"  \n",
       "4          \"Colonel Homer\"  "
      ]
     },
     "execution_count": 106,
     "metadata": {},
     "output_type": "execute_result"
    }
   ],
   "source": [
    "simpsons.head()"
   ]
  },
  {
   "cell_type": "code",
   "execution_count": 107,
   "metadata": {},
   "outputs": [],
   "source": [
    "#way to write the tabular content into csv file\n",
    "simpsons.to_csv('simpsons.csv')"
   ]
  },
  {
   "cell_type": "code",
   "execution_count": 109,
   "metadata": {},
   "outputs": [],
   "source": [
    "#reading the excel file\n",
    "#one can also use read_excel() in place of ExcelFile()\n",
    "b=pd.ExcelFile(\"6304 Module 5 Data Sets.xlsx\")"
   ]
  },
  {
   "cell_type": "code",
   "execution_count": 110,
   "metadata": {},
   "outputs": [
    {
     "data": {
      "text/plain": [
       "<pandas.io.excel._base.ExcelFile at 0x1b1051707f0>"
      ]
     },
     "execution_count": 110,
     "metadata": {},
     "output_type": "execute_result"
    }
   ],
   "source": [
    "excel_file"
   ]
  },
  {
   "cell_type": "code",
   "execution_count": 112,
   "metadata": {},
   "outputs": [
    {
     "data": {
      "text/plain": [
       "['Restaurant',\n",
       " 'Warehouse Cost',\n",
       " 'MPG',\n",
       " 'Child Abuse with Binaries',\n",
       " 'Child Abuse with Binaries 2',\n",
       " 'House Appraisals']"
      ]
     },
     "execution_count": 112,
     "metadata": {},
     "output_type": "execute_result"
    }
   ],
   "source": [
    "#printing the sheet names present in the above excel workbook\n",
    "excel_file.sheet_names"
   ]
  },
  {
   "cell_type": "code",
   "execution_count": 115,
   "metadata": {},
   "outputs": [],
   "source": [
    "#extracting data from a particular sheet of excel\n",
    "MPG = excel_file.parse('MPG')"
   ]
  },
  {
   "cell_type": "code",
   "execution_count": 116,
   "metadata": {},
   "outputs": [
    {
     "data": {
      "text/html": [
       "<div>\n",
       "<style scoped>\n",
       "    .dataframe tbody tr th:only-of-type {\n",
       "        vertical-align: middle;\n",
       "    }\n",
       "\n",
       "    .dataframe tbody tr th {\n",
       "        vertical-align: top;\n",
       "    }\n",
       "\n",
       "    .dataframe thead th {\n",
       "        text-align: right;\n",
       "    }\n",
       "</style>\n",
       "<table border=\"1\" class=\"dataframe\">\n",
       "  <thead>\n",
       "    <tr style=\"text-align: right;\">\n",
       "      <th></th>\n",
       "      <th>MPG</th>\n",
       "      <th>Horsepower</th>\n",
       "      <th>Weight</th>\n",
       "    </tr>\n",
       "  </thead>\n",
       "  <tbody>\n",
       "    <tr>\n",
       "      <th>0</th>\n",
       "      <td>43.1</td>\n",
       "      <td>48</td>\n",
       "      <td>1985</td>\n",
       "    </tr>\n",
       "    <tr>\n",
       "      <th>1</th>\n",
       "      <td>19.9</td>\n",
       "      <td>110</td>\n",
       "      <td>3365</td>\n",
       "    </tr>\n",
       "    <tr>\n",
       "      <th>2</th>\n",
       "      <td>19.2</td>\n",
       "      <td>105</td>\n",
       "      <td>3535</td>\n",
       "    </tr>\n",
       "    <tr>\n",
       "      <th>3</th>\n",
       "      <td>17.7</td>\n",
       "      <td>165</td>\n",
       "      <td>3445</td>\n",
       "    </tr>\n",
       "    <tr>\n",
       "      <th>4</th>\n",
       "      <td>18.1</td>\n",
       "      <td>139</td>\n",
       "      <td>3205</td>\n",
       "    </tr>\n",
       "  </tbody>\n",
       "</table>\n",
       "</div>"
      ],
      "text/plain": [
       "    MPG  Horsepower  Weight\n",
       "0  43.1          48    1985\n",
       "1  19.9         110    3365\n",
       "2  19.2         105    3535\n",
       "3  17.7         165    3445\n",
       "4  18.1         139    3205"
      ]
     },
     "execution_count": 116,
     "metadata": {},
     "output_type": "execute_result"
    }
   ],
   "source": [
    "MPG.head()"
   ]
  },
  {
   "cell_type": "code",
   "execution_count": 120,
   "metadata": {},
   "outputs": [],
   "source": [
    "#used for writing the content of mpg sheet to another excel file called mpg2.xlsx.\n",
    "#note- index= None helps in not having any index column in the newly written excel file\n",
    "MPG.to_excel('mpg2.xlsx',index=None)"
   ]
  },
  {
   "cell_type": "code",
   "execution_count": 121,
   "metadata": {},
   "outputs": [],
   "source": [
    "#startrow lets you mention the no of rows to skip for wiritng the content\n",
    "#startcol lets you mention the no of columns to skip for wiritng the content\n",
    "\n",
    "MPG.to_excel('mpg3.xlsx',\n",
    "             index=None,\n",
    "            startrow=1,\n",
    "            startcol=2)"
   ]
  }
 ],
 "metadata": {
  "kernelspec": {
   "display_name": "Python 3",
   "language": "python",
   "name": "python3"
  },
  "language_info": {
   "codemirror_mode": {
    "name": "ipython",
    "version": 3
   },
   "file_extension": ".py",
   "mimetype": "text/x-python",
   "name": "python",
   "nbconvert_exporter": "python",
   "pygments_lexer": "ipython3",
   "version": "3.8.5"
  }
 },
 "nbformat": 4,
 "nbformat_minor": 4
}
