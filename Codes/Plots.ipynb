{
 "cells": [
  {
   "cell_type": "code",
   "execution_count": 38,
   "metadata": {},
   "outputs": [],
   "source": [
    "#Reading data and plotting\n",
    "import numpy as np\n",
    "import pandas as pd\n",
    "import matplotlib.pyplot as plt\n",
    "\n",
    "%matplotlib inline \n"
   ]
  },
  {
   "cell_type": "code",
   "execution_count": 7,
   "metadata": {},
   "outputs": [],
   "source": [
    "pd.read_csv?"
   ]
  },
  {
   "cell_type": "code",
   "execution_count": 21,
   "metadata": {},
   "outputs": [],
   "source": [
    "df = pd.read_csv('Covid_Effects_Trade.csv')"
   ]
  },
  {
   "cell_type": "code",
   "execution_count": 22,
   "metadata": {},
   "outputs": [
    {
     "name": "stdout",
     "output_type": "stream",
     "text": [
      "        Direction  Year        Date    Weekday Country Commodity  \\\n",
      "0         Exports  2015  01/01/2015   Thursday     All       All   \n",
      "1         Exports  2015  02/01/2015     Friday     All       All   \n",
      "2         Exports  2015  03/01/2015   Saturday     All       All   \n",
      "3         Exports  2015  04/01/2015     Sunday     All       All   \n",
      "4         Exports  2015  05/01/2015     Monday     All       All   \n",
      "...           ...   ...         ...        ...     ...       ...   \n",
      "101890  Reimports  2021  08/05/2021   Saturday     All       All   \n",
      "101891  Reimports  2021  09/05/2021     Sunday     All       All   \n",
      "101892  Reimports  2021  10/05/2021     Monday     All       All   \n",
      "101893  Reimports  2021  11/05/2021    Tuesday     All       All   \n",
      "101894  Reimports  2021  12/05/2021  Wednesday     All       All   \n",
      "\n",
      "       Transport_Mode Measure      Value  Cumulative  \n",
      "0                 All       $  104000000   104000000  \n",
      "1                 All       $   96000000   200000000  \n",
      "2                 All       $   61000000   262000000  \n",
      "3                 All       $   74000000   336000000  \n",
      "4                 All       $  105000000   442000000  \n",
      "...               ...     ...        ...         ...  \n",
      "101890            All       $          0    95000000  \n",
      "101891            All       $          0    95000000  \n",
      "101892            All       $    1000000    96000000  \n",
      "101893            All       $          0    96000000  \n",
      "101894            All       $    1000000    97000000  \n",
      "\n",
      "[101895 rows x 10 columns]\n"
     ]
    }
   ],
   "source": [
    "print(df)"
   ]
  },
  {
   "cell_type": "code",
   "execution_count": 23,
   "metadata": {},
   "outputs": [
    {
     "data": {
      "text/html": [
       "<div>\n",
       "<style scoped>\n",
       "    .dataframe tbody tr th:only-of-type {\n",
       "        vertical-align: middle;\n",
       "    }\n",
       "\n",
       "    .dataframe tbody tr th {\n",
       "        vertical-align: top;\n",
       "    }\n",
       "\n",
       "    .dataframe thead th {\n",
       "        text-align: right;\n",
       "    }\n",
       "</style>\n",
       "<table border=\"1\" class=\"dataframe\">\n",
       "  <thead>\n",
       "    <tr style=\"text-align: right;\">\n",
       "      <th></th>\n",
       "      <th>Direction</th>\n",
       "      <th>Year</th>\n",
       "      <th>Date</th>\n",
       "      <th>Weekday</th>\n",
       "      <th>Country</th>\n",
       "      <th>Commodity</th>\n",
       "      <th>Transport_Mode</th>\n",
       "      <th>Measure</th>\n",
       "      <th>Value</th>\n",
       "      <th>Cumulative</th>\n",
       "    </tr>\n",
       "  </thead>\n",
       "  <tbody>\n",
       "    <tr>\n",
       "      <th>0</th>\n",
       "      <td>Exports</td>\n",
       "      <td>2015</td>\n",
       "      <td>01/01/2015</td>\n",
       "      <td>Thursday</td>\n",
       "      <td>All</td>\n",
       "      <td>All</td>\n",
       "      <td>All</td>\n",
       "      <td>$</td>\n",
       "      <td>104000000</td>\n",
       "      <td>104000000</td>\n",
       "    </tr>\n",
       "    <tr>\n",
       "      <th>1</th>\n",
       "      <td>Exports</td>\n",
       "      <td>2015</td>\n",
       "      <td>02/01/2015</td>\n",
       "      <td>Friday</td>\n",
       "      <td>All</td>\n",
       "      <td>All</td>\n",
       "      <td>All</td>\n",
       "      <td>$</td>\n",
       "      <td>96000000</td>\n",
       "      <td>200000000</td>\n",
       "    </tr>\n",
       "    <tr>\n",
       "      <th>2</th>\n",
       "      <td>Exports</td>\n",
       "      <td>2015</td>\n",
       "      <td>03/01/2015</td>\n",
       "      <td>Saturday</td>\n",
       "      <td>All</td>\n",
       "      <td>All</td>\n",
       "      <td>All</td>\n",
       "      <td>$</td>\n",
       "      <td>61000000</td>\n",
       "      <td>262000000</td>\n",
       "    </tr>\n",
       "    <tr>\n",
       "      <th>3</th>\n",
       "      <td>Exports</td>\n",
       "      <td>2015</td>\n",
       "      <td>04/01/2015</td>\n",
       "      <td>Sunday</td>\n",
       "      <td>All</td>\n",
       "      <td>All</td>\n",
       "      <td>All</td>\n",
       "      <td>$</td>\n",
       "      <td>74000000</td>\n",
       "      <td>336000000</td>\n",
       "    </tr>\n",
       "    <tr>\n",
       "      <th>4</th>\n",
       "      <td>Exports</td>\n",
       "      <td>2015</td>\n",
       "      <td>05/01/2015</td>\n",
       "      <td>Monday</td>\n",
       "      <td>All</td>\n",
       "      <td>All</td>\n",
       "      <td>All</td>\n",
       "      <td>$</td>\n",
       "      <td>105000000</td>\n",
       "      <td>442000000</td>\n",
       "    </tr>\n",
       "  </tbody>\n",
       "</table>\n",
       "</div>"
      ],
      "text/plain": [
       "  Direction  Year        Date   Weekday Country Commodity Transport_Mode  \\\n",
       "0   Exports  2015  01/01/2015  Thursday     All       All            All   \n",
       "1   Exports  2015  02/01/2015    Friday     All       All            All   \n",
       "2   Exports  2015  03/01/2015  Saturday     All       All            All   \n",
       "3   Exports  2015  04/01/2015    Sunday     All       All            All   \n",
       "4   Exports  2015  05/01/2015    Monday     All       All            All   \n",
       "\n",
       "  Measure      Value  Cumulative  \n",
       "0       $  104000000   104000000  \n",
       "1       $   96000000   200000000  \n",
       "2       $   61000000   262000000  \n",
       "3       $   74000000   336000000  \n",
       "4       $  105000000   442000000  "
      ]
     },
     "execution_count": 23,
     "metadata": {},
     "output_type": "execute_result"
    }
   ],
   "source": [
    "df.head()"
   ]
  },
  {
   "cell_type": "code",
   "execution_count": 24,
   "metadata": {},
   "outputs": [
    {
     "data": {
      "text/html": [
       "<div>\n",
       "<style scoped>\n",
       "    .dataframe tbody tr th:only-of-type {\n",
       "        vertical-align: middle;\n",
       "    }\n",
       "\n",
       "    .dataframe tbody tr th {\n",
       "        vertical-align: top;\n",
       "    }\n",
       "\n",
       "    .dataframe thead th {\n",
       "        text-align: right;\n",
       "    }\n",
       "</style>\n",
       "<table border=\"1\" class=\"dataframe\">\n",
       "  <thead>\n",
       "    <tr style=\"text-align: right;\">\n",
       "      <th></th>\n",
       "      <th>Direction</th>\n",
       "      <th>Year</th>\n",
       "      <th>Date</th>\n",
       "      <th>Weekday</th>\n",
       "      <th>Country</th>\n",
       "      <th>Commodity</th>\n",
       "      <th>Transport_Mode</th>\n",
       "      <th>Measure</th>\n",
       "      <th>Value</th>\n",
       "      <th>Cumulative</th>\n",
       "    </tr>\n",
       "  </thead>\n",
       "  <tbody>\n",
       "    <tr>\n",
       "      <th>101892</th>\n",
       "      <td>Reimports</td>\n",
       "      <td>2021</td>\n",
       "      <td>10/05/2021</td>\n",
       "      <td>Monday</td>\n",
       "      <td>All</td>\n",
       "      <td>All</td>\n",
       "      <td>All</td>\n",
       "      <td>$</td>\n",
       "      <td>1000000</td>\n",
       "      <td>96000000</td>\n",
       "    </tr>\n",
       "    <tr>\n",
       "      <th>101893</th>\n",
       "      <td>Reimports</td>\n",
       "      <td>2021</td>\n",
       "      <td>11/05/2021</td>\n",
       "      <td>Tuesday</td>\n",
       "      <td>All</td>\n",
       "      <td>All</td>\n",
       "      <td>All</td>\n",
       "      <td>$</td>\n",
       "      <td>0</td>\n",
       "      <td>96000000</td>\n",
       "    </tr>\n",
       "    <tr>\n",
       "      <th>101894</th>\n",
       "      <td>Reimports</td>\n",
       "      <td>2021</td>\n",
       "      <td>12/05/2021</td>\n",
       "      <td>Wednesday</td>\n",
       "      <td>All</td>\n",
       "      <td>All</td>\n",
       "      <td>All</td>\n",
       "      <td>$</td>\n",
       "      <td>1000000</td>\n",
       "      <td>97000000</td>\n",
       "    </tr>\n",
       "  </tbody>\n",
       "</table>\n",
       "</div>"
      ],
      "text/plain": [
       "        Direction  Year        Date    Weekday Country Commodity  \\\n",
       "101892  Reimports  2021  10/05/2021     Monday     All       All   \n",
       "101893  Reimports  2021  11/05/2021    Tuesday     All       All   \n",
       "101894  Reimports  2021  12/05/2021  Wednesday     All       All   \n",
       "\n",
       "       Transport_Mode Measure    Value  Cumulative  \n",
       "101892            All       $  1000000    96000000  \n",
       "101893            All       $        0    96000000  \n",
       "101894            All       $  1000000    97000000  "
      ]
     },
     "execution_count": 24,
     "metadata": {},
     "output_type": "execute_result"
    }
   ],
   "source": [
    "df.tail(3) # default value is 5"
   ]
  },
  {
   "cell_type": "code",
   "execution_count": 25,
   "metadata": {},
   "outputs": [
    {
     "data": {
      "text/plain": [
       "Direction         object\n",
       "Year               int64\n",
       "Date              object\n",
       "Weekday           object\n",
       "Country           object\n",
       "Commodity         object\n",
       "Transport_Mode    object\n",
       "Measure           object\n",
       "Value              int64\n",
       "Cumulative         int64\n",
       "dtype: object"
      ]
     },
     "execution_count": 25,
     "metadata": {},
     "output_type": "execute_result"
    }
   ],
   "source": [
    "df.dtypes"
   ]
  },
  {
   "cell_type": "code",
   "execution_count": 26,
   "metadata": {},
   "outputs": [
    {
     "data": {
      "text/plain": [
       "0   2015-01-01\n",
       "1   2015-02-01\n",
       "2   2015-03-01\n",
       "3   2015-04-01\n",
       "4   2015-05-01\n",
       "Name: Date, dtype: datetime64[ns]"
      ]
     },
     "execution_count": 26,
     "metadata": {},
     "output_type": "execute_result"
    }
   ],
   "source": [
    "pd.to_datetime(df['Date']).head()  # to change the datatype to datetime"
   ]
  },
  {
   "cell_type": "code",
   "execution_count": 28,
   "metadata": {},
   "outputs": [],
   "source": [
    "df['Date']= pd.to_datetime(df['Date'])"
   ]
  },
  {
   "cell_type": "code",
   "execution_count": 30,
   "metadata": {},
   "outputs": [
    {
     "data": {
      "text/plain": [
       "Direction                 object\n",
       "Year                       int64\n",
       "Date              datetime64[ns]\n",
       "Weekday                   object\n",
       "Country                   object\n",
       "Commodity                 object\n",
       "Transport_Mode            object\n",
       "Measure                   object\n",
       "Value                      int64\n",
       "Cumulative                 int64\n",
       "dtype: object"
      ]
     },
     "execution_count": 30,
     "metadata": {},
     "output_type": "execute_result"
    }
   ],
   "source": [
    "df.dtypes"
   ]
  },
  {
   "cell_type": "code",
   "execution_count": 33,
   "metadata": {},
   "outputs": [],
   "source": [
    "#setting the index value of the df\n",
    "df.set_index('Date', inplace = True)"
   ]
  },
  {
   "cell_type": "code",
   "execution_count": 36,
   "metadata": {},
   "outputs": [
    {
     "data": {
      "text/html": [
       "<div>\n",
       "<style scoped>\n",
       "    .dataframe tbody tr th:only-of-type {\n",
       "        vertical-align: middle;\n",
       "    }\n",
       "\n",
       "    .dataframe tbody tr th {\n",
       "        vertical-align: top;\n",
       "    }\n",
       "\n",
       "    .dataframe thead th {\n",
       "        text-align: right;\n",
       "    }\n",
       "</style>\n",
       "<table border=\"1\" class=\"dataframe\">\n",
       "  <thead>\n",
       "    <tr style=\"text-align: right;\">\n",
       "      <th></th>\n",
       "      <th>Direction</th>\n",
       "      <th>Year</th>\n",
       "      <th>Weekday</th>\n",
       "      <th>Country</th>\n",
       "      <th>Commodity</th>\n",
       "      <th>Transport_Mode</th>\n",
       "      <th>Measure</th>\n",
       "      <th>Value</th>\n",
       "      <th>Cumulative</th>\n",
       "    </tr>\n",
       "    <tr>\n",
       "      <th>Date</th>\n",
       "      <th></th>\n",
       "      <th></th>\n",
       "      <th></th>\n",
       "      <th></th>\n",
       "      <th></th>\n",
       "      <th></th>\n",
       "      <th></th>\n",
       "      <th></th>\n",
       "      <th></th>\n",
       "    </tr>\n",
       "  </thead>\n",
       "  <tbody>\n",
       "    <tr>\n",
       "      <th>2015-03-01</th>\n",
       "      <td>Exports</td>\n",
       "      <td>2015</td>\n",
       "      <td>Saturday</td>\n",
       "      <td>All</td>\n",
       "      <td>All</td>\n",
       "      <td>All</td>\n",
       "      <td>$</td>\n",
       "      <td>61000000</td>\n",
       "      <td>262000000</td>\n",
       "    </tr>\n",
       "    <tr>\n",
       "      <th>2015-03-01</th>\n",
       "      <td>Exports</td>\n",
       "      <td>2015</td>\n",
       "      <td>Saturday</td>\n",
       "      <td>China</td>\n",
       "      <td>All</td>\n",
       "      <td>All</td>\n",
       "      <td>$</td>\n",
       "      <td>11000000</td>\n",
       "      <td>51000000</td>\n",
       "    </tr>\n",
       "    <tr>\n",
       "      <th>2015-03-01</th>\n",
       "      <td>Exports</td>\n",
       "      <td>2015</td>\n",
       "      <td>Saturday</td>\n",
       "      <td>Australia</td>\n",
       "      <td>All</td>\n",
       "      <td>All</td>\n",
       "      <td>$</td>\n",
       "      <td>12000000</td>\n",
       "      <td>22000000</td>\n",
       "    </tr>\n",
       "    <tr>\n",
       "      <th>2015-03-01</th>\n",
       "      <td>Exports</td>\n",
       "      <td>2015</td>\n",
       "      <td>Saturday</td>\n",
       "      <td>United States</td>\n",
       "      <td>All</td>\n",
       "      <td>All</td>\n",
       "      <td>$</td>\n",
       "      <td>12000000</td>\n",
       "      <td>50000000</td>\n",
       "    </tr>\n",
       "    <tr>\n",
       "      <th>2015-03-01</th>\n",
       "      <td>Exports</td>\n",
       "      <td>2015</td>\n",
       "      <td>Saturday</td>\n",
       "      <td>Japan</td>\n",
       "      <td>All</td>\n",
       "      <td>All</td>\n",
       "      <td>$</td>\n",
       "      <td>0</td>\n",
       "      <td>13000000</td>\n",
       "    </tr>\n",
       "  </tbody>\n",
       "</table>\n",
       "</div>"
      ],
      "text/plain": [
       "           Direction  Year   Weekday        Country Commodity Transport_Mode  \\\n",
       "Date                                                                           \n",
       "2015-03-01   Exports  2015  Saturday            All       All            All   \n",
       "2015-03-01   Exports  2015  Saturday          China       All            All   \n",
       "2015-03-01   Exports  2015  Saturday      Australia       All            All   \n",
       "2015-03-01   Exports  2015  Saturday  United States       All            All   \n",
       "2015-03-01   Exports  2015  Saturday          Japan       All            All   \n",
       "\n",
       "           Measure     Value  Cumulative  \n",
       "Date                                      \n",
       "2015-03-01       $  61000000   262000000  \n",
       "2015-03-01       $  11000000    51000000  \n",
       "2015-03-01       $  12000000    22000000  \n",
       "2015-03-01       $  12000000    50000000  \n",
       "2015-03-01       $         0    13000000  "
      ]
     },
     "execution_count": 36,
     "metadata": {},
     "output_type": "execute_result"
    }
   ],
   "source": [
    "df.loc['2015-03-01'].head()"
   ]
  },
  {
   "cell_type": "code",
   "execution_count": 37,
   "metadata": {},
   "outputs": [
    {
     "ename": "SyntaxError",
     "evalue": "positional argument follows keyword argument (<ipython-input-37-9c0297c618bf>, line 3)",
     "output_type": "error",
     "traceback": [
      "\u001b[1;36m  File \u001b[1;32m\"<ipython-input-37-9c0297c618bf>\"\u001b[1;36m, line \u001b[1;32m3\u001b[0m\n\u001b[1;33m    names= 'Year','Cumulative',\u001b[0m\n\u001b[1;37m                  ^\u001b[0m\n\u001b[1;31mSyntaxError\u001b[0m\u001b[1;31m:\u001b[0m positional argument follows keyword argument\n"
     ]
    }
   ],
   "source": [
    "#simpler way to perform above operations in one\n",
    "df = pd.read_csv('Covid_Effects_Trade.csv',\n",
    "                names= ['Year','Cumulative'],\n",
    "                parse_dates = True)"
   ]
  },
  {
   "cell_type": "code",
   "execution_count": 35,
   "metadata": {},
   "outputs": [
    {
     "data": {
      "text/plain": [
       "<AxesSubplot:xlabel='Date'>"
      ]
     },
     "execution_count": 35,
     "metadata": {},
     "output_type": "execute_result"
    },
    {
     "data": {
      "image/png": "[encoded data removed]",
      "text/plain": [
       "<Figure size 432x288 with 1 Axes>"
      ]
     },
     "metadata": {
      "needs_background": "light"
     },
     "output_type": "display_data"
    }
   ],
   "source": [
    "df.plot()"
   ]
  },
  {
   "cell_type": "code",
   "execution_count": 40,
   "metadata": {},
   "outputs": [
    {
     "data": {
      "text/plain": [
       "[<matplotlib.lines.Line2D at 0x203389b07f0>]"
      ]
     },
     "execution_count": 40,
     "metadata": {},
     "output_type": "execute_result"
    },
    {
     "data": {
      "image/png": "[encoded data removed]",
      "text/plain": [
       "<Figure size 432x288 with 1 Axes>"
      ]
     },
     "metadata": {
      "needs_background": "light"
     },
     "output_type": "display_data"
    }
   ],
   "source": [
    "plt.plot(df.index,df['Value'])"
   ]
  }
 ],
 "metadata": {
  "kernelspec": {
   "display_name": "Python 3",
   "language": "python",
   "name": "python3"
  },
  "language_info": {
   "codemirror_mode": {
    "name": "ipython",
    "version": 3
   },
   "file_extension": ".py",
   "mimetype": "text/x-python",
   "name": "python",
   "nbconvert_exporter": "python",
   "pygments_lexer": "ipython3",
   "version": "3.8.5"
  }
 },
 "nbformat": 4,
 "nbformat_minor": 4
}
