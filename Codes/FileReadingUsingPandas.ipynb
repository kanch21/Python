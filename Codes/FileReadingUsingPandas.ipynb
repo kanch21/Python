{
 "cells": [
  {
   "cell_type": "code",
   "execution_count": 2,
   "metadata": {},
   "outputs": [
    {
     "name": "stdout",
     "output_type": "stream",
     "text": [
      "0 index,date,price in usd\n",
      "\n",
      "1 0,2/12/2017,1124.4430\n",
      "\n",
      "2 1,3/12/2017,231.9900\n",
      "\n",
      "3 2,1/31/2016,2766.0000\n",
      "\n",
      "4 3,5/17/2016,3475.0000\n",
      "\n",
      "5 4,6/8/2016,2416.0000\n",
      "\n",
      "6 5,11/15/2016,2127.0000\n",
      "\n",
      "7 6,11/9/2016,2114.0000\n",
      "\n",
      "8 7,12/3/2016,3419.0000\n",
      "\n",
      "9 8,10/20/2016,2850.0000\n",
      "\n"
     ]
    }
   ],
   "source": [
    "#Reading files using pandas\n",
    "import pandas as pd\n",
    "with open('sampleData.csv','r') as fp:\n",
    "    for index,line in enumerate(fp.readlines()):\n",
    "        if index <10:\n",
    "            print(index, line)"
   ]
  },
  {
   "cell_type": "code",
   "execution_count": 9,
   "metadata": {},
   "outputs": [
    {
     "name": "stdout",
     "output_type": "stream",
     "text": [
      "2/12/2017 : $1124.4430\n",
      "\n",
      "3/12/2017 : $231.9900\n",
      "\n",
      "10/5/2016 : $1315.0000\n",
      "\n",
      "10/7/2016 : $3353.0000\n",
      "\n",
      "6/30/2016 : $3085.0000\n",
      "\n",
      "4/11/2016 : $979.0000\n",
      "\n",
      "8/31/2016 : $2396.0000\n",
      "\n",
      "9/23/2016 : $1052.0000\n",
      "\n",
      "9/29/2016 : $3293.0000\n",
      "\n",
      "9/4/2016 : $2867.0000\n",
      "\n"
     ]
    }
   ],
   "source": [
    "#Reading files using pandas\n",
    "import pandas as pd\n",
    "with open('sampleData.csv','r') as fp:\n",
    "    for index,line in enumerate(fp.readlines()):\n",
    "        if (index < 10):\n",
    "            date,price = line.split(',')\n",
    "            print(f\"{date} : ${price}\")"
   ]
  }
 ],
 "metadata": {
  "kernelspec": {
   "display_name": "Python 3",
   "language": "python",
   "name": "python3"
  },
  "language_info": {
   "codemirror_mode": {
    "name": "ipython",
    "version": 3
   },
   "file_extension": ".py",
   "mimetype": "text/x-python",
   "name": "python",
   "nbconvert_exporter": "python",
   "pygments_lexer": "ipython3",
   "version": "3.8.5"
  }
 },
 "nbformat": 4,
 "nbformat_minor": 4
}
