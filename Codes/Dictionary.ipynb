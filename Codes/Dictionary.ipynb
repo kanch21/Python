{
 "cells": [
  {
   "cell_type": "code",
   "execution_count": 2,
   "metadata": {},
   "outputs": [
    {
     "name": "stdout",
     "output_type": "stream",
     "text": [
      "{'money': 12, 'candy': 5, 'tissues': 10}\n"
     ]
    }
   ],
   "source": [
    "#Dictionary- It is a form of data collection where there are labels to every value- like key value pairs.\n",
    "#they allow us to do db like operations  in python\n",
    "#they are like bags- no order, so we index the things we put in dictionary with a lookup tag\n",
    "\n",
    "\n",
    "purse =dict()\n",
    "purse['money'] = 12\n",
    "purse['candy'] = 5\n",
    "purse['tissues'] = 10\n",
    "print(purse)"
   ]
  },
  {
   "cell_type": "code",
   "execution_count": 3,
   "metadata": {},
   "outputs": [
    {
     "name": "stdout",
     "output_type": "stream",
     "text": [
      "value of money is 12\n"
     ]
    }
   ],
   "source": [
    "#printing value of a particular key\n",
    "\n",
    "print('value of money is',purse['money'])"
   ]
  },
  {
   "cell_type": "code",
   "execution_count": 4,
   "metadata": {},
   "outputs": [
    {
     "name": "stdout",
     "output_type": "stream",
     "text": [
      "10\n"
     ]
    }
   ],
   "source": [
    "#altering values of a key based value\n",
    "\n",
    "purse['candy'] = purse['candy'] + 5\n",
    "print(purse['candy'])"
   ]
  },
  {
   "cell_type": "code",
   "execution_count": 5,
   "metadata": {},
   "outputs": [
    {
     "name": "stdout",
     "output_type": "stream",
     "text": [
      "{'money': 12, 'candy': 10, 'tissues': 10, 'lipstick': 3}\n"
     ]
    }
   ],
   "source": [
    "#adding elements in dictionaries\n",
    "\n",
    "purse['lipstick'] = 3\n",
    "print(purse)\n"
   ]
  },
  {
   "cell_type": "code",
   "execution_count": 6,
   "metadata": {},
   "outputs": [
    {
     "name": "stdout",
     "output_type": "stream",
     "text": [
      "{'money': 10000, 'candy': 10, 'tissues': 10, 'lipstick': 3}\n"
     ]
    }
   ],
   "source": [
    "#overriding the values in dictionary\n",
    "purse['money'] = 10000\n",
    "print(purse)"
   ]
  },
  {
   "cell_type": "code",
   "execution_count": 7,
   "metadata": {},
   "outputs": [
    {
     "name": "stdout",
     "output_type": "stream",
     "text": [
      "{}\n"
     ]
    }
   ],
   "source": [
    "#creating empty dictionary\n",
    "\n",
    "empty_dict = {}\n",
    "print(empty_dict)"
   ]
  },
  {
   "cell_type": "code",
   "execution_count": 9,
   "metadata": {},
   "outputs": [
    {
     "name": "stdout",
     "output_type": "stream",
     "text": [
      "its there\n"
     ]
    },
    {
     "data": {
      "text/plain": [
       "False"
      ]
     },
     "execution_count": 9,
     "metadata": {},
     "output_type": "execute_result"
    }
   ],
   "source": [
    "# means of checking if a particular key exists within a dictionary\n",
    "if 'money' in purse:\n",
    "    print('its there')\n",
    "\n",
    "'lispstick' in purse"
   ]
  },
  {
   "cell_type": "code",
   "execution_count": 10,
   "metadata": {},
   "outputs": [
    {
     "name": "stdout",
     "output_type": "stream",
     "text": [
      "{'kanchan': 3, 'disha': 3, 'kittu': 1, 'lali': 2}\n"
     ]
    }
   ],
   "source": [
    "#word count ->later on can be made into a histogram\n",
    "\n",
    "#creating an empty dictionary\n",
    "counts = dict()\n",
    "\n",
    "#creating the keys to be used in dictionary\n",
    "names = ['kanchan', 'disha', 'kittu', 'disha', 'lali', 'kanchan', 'kanchan', 'lali', 'disha']\n",
    "\n",
    "for name in names:\n",
    "    if name not in counts: # here it is checking if the key is not already present in the dict, if not default the count to 1\n",
    "        counts[name] = 1\n",
    "    else:                  #else it means it already exists in the dict for the count to increment by 1\n",
    "        counts[name] = counts[name] + 1\n",
    "        \n",
    "print(counts)\n"
   ]
  },
  {
   "cell_type": "code",
   "execution_count": 14,
   "metadata": {},
   "outputs": [
    {
     "name": "stdout",
     "output_type": "stream",
     "text": [
      "{'kanchan': 3, 'disha': 3, 'kittu': 1, 'lali': 2}\n"
     ]
    }
   ],
   "source": [
    "#another shorted way of doing the above case is using get method\n",
    "#using get() we can provide a zero value if the key is not yet in the dictionary and add then add 1 when present\n",
    "counts = dict()\n",
    "names = ['kanchan', 'disha', 'kittu', 'disha', 'lali', 'kanchan', 'kanchan', 'lali', 'disha']\n",
    "\n",
    "for name in names:\n",
    "    counts[name] = counts.get(name, 0) + 1  #here by default if the key doesnt exist its gonna increment the value by 1\n",
    "print(counts)"
   ]
  },
  {
   "cell_type": "code",
   "execution_count": 19,
   "metadata": {},
   "outputs": [
    {
     "name": "stdout",
     "output_type": "stream",
     "text": [
      "kanchan 3\n",
      "disha 3\n",
      "kittu 1\n",
      "lali 2\n",
      "['kanchan', 'disha', 'kittu', 'lali']\n",
      "dict_keys(['kanchan', 'disha', 'kittu', 'lali'])\n",
      "dict_values([3, 3, 1, 2])\n",
      "dict_items([('kanchan', 3), ('disha', 3), ('kittu', 1), ('lali', 2)])\n"
     ]
    }
   ],
   "source": [
    "#looping in dictionary\n",
    "\n",
    "list_1 = {'kanchan': 3, 'disha': 3, 'kittu': 1, 'lali': 2}\n",
    "#note- key is just a user-defined variable name for a key of dictionary\n",
    "for key in list_1:\n",
    "    print(key, list_1[key])\n",
    "\n",
    "#printing the list of keys\n",
    "print(list(list_1))\n",
    "#OR\n",
    "print(list_1.keys())\n",
    "\n",
    "#printing values of dict\n",
    "print(list_1.values())\n",
    "\n",
    "#printing tuples of dict ie comma separated key value pairs\n",
    "print(list_1.items())"
   ]
  },
  {
   "cell_type": "code",
   "execution_count": 23,
   "metadata": {},
   "outputs": [
    {
     "name": "stdout",
     "output_type": "stream",
     "text": [
      "key: kanchan \n",
      "value: 3 \n",
      "\n",
      "key: disha \n",
      "value: 3 \n",
      "\n",
      "key: kittu \n",
      "value: 1 \n",
      "\n",
      "key: lali \n",
      "value: 2 \n",
      "\n"
     ]
    }
   ],
   "source": [
    "# 2 iteration variables\n",
    "names = {'kanchan': 3, 'disha': 3, 'kittu': 1, 'lali': 2}\n",
    "\n",
    "for key,value in names.items():       #note the function items(); 2 iteration variables and items are related\n",
    "    print('key:',key,'\\nvalue:',value,'\\n')"
   ]
  },
  {
   "cell_type": "code",
   "execution_count": 13,
   "metadata": {},
   "outputs": [
    {
     "name": "stdout",
     "output_type": "stream",
     "text": [
      "enter the file name: Dict_sample.txt\n",
      "{'Dictionaries': 1, 'are': 7, 'extremely': 1, 'flexible': 1, 'mappings': 1, 'of': 17, 'keys': 1, 'to': 11, 'values,': 1, 'and': 21, 'form': 1, 'the': 14, 'basis': 1, 'much': 1, 'Pythonâ€™s': 1, 'internal': 1, 'implementation.': 1, 'They': 1, 'can': 2, 'be': 3, 'created': 1, 'via': 1, 'a': 5, 'comma': 1, 'separated': 1, 'list': 1, 'key:value': 1, 'pairs': 1, 'within': 1, 'curly': 1, 'braces.': 1, 'Poaching': 1, 'pythons': 3, 'is': 13, 'lucrative': 1, 'business': 1, 'with': 5, 'global': 1, 'python': 2, 'skin': 2, 'trade': 1, 'being': 1, 'an': 4, 'estimated': 1, 'US$1': 1, 'billion': 1, 'as': 4, '2012.': 1, 'Pythons': 3, 'poached': 1, 'for': 15, 'their': 3, 'meat,': 1, 'mostly': 1, 'consumed': 1, 'locally': 1, 'bushmeat': 2, 'skin,': 2, 'which': 2, 'sent': 1, 'Europe': 1, 'North': 1, 'America': 1, 'manufacture': 1, 'accessories': 1, 'like': 1, 'bags,': 1, 'belts': 1, 'shoes.': 1, 'The': 2, 'demand': 2, 'poaching': 3, 'increased': 1, 'because': 1, 'farming': 1, 'very': 3, 'expensive.': 1, 'Python': 5, 'in': 7, 'Africa': 1, 'occurs': 1, 'bushmeat,': 1, 'usually': 1, 'local': 1, 'use,': 2, 'traded': 1, 'internationally': 1, 'accessories.': 1, 'In': 2, 'Cameroon': 2, 'markets,': 1, 'African': 4, 'Rock': 1, 'commonly': 1, 'sold': 1, 'meat': 1, 'expensive': 1, 'at': 1, 'US': 1, '$175.': 1, 'illegal': 1, 'under': 1, 'wildlife': 1, 'law,': 1, 'but': 2, 'there': 3, 'little': 1, 'no': 1, 'enforcement.': 1, 'Kenya,': 1, 'has': 1, 'been': 2, 'increase': 1, 'snake': 3, 'farms': 2, 'address': 1, 'internationally,': 1, 'health': 4, 'concerns': 1, 'workers,': 1, 'danger': 1, 'due': 1, 'poachers': 1, 'coming': 1, 'hunt': 1, 'snakes.': 1, 'While': 2, 'not': 1, 'venomous,': 1, 'they': 1, 'do': 1, 'carry': 1, 'host': 1, 'potential': 1, 'issues': 1, 'humans.': 1, 'disease': 1, 'vectors': 1, 'multiple': 1, 'illness,': 1, 'including': 2, 'Salmonella,': 1, 'Chlamydia,': 1, 'Leptospirosis,': 1, 'Aeromoniasis,': 1, 'Campylobacteriosis,': 1, 'Zygomycosis.': 1, 'These': 1, 'diseases': 2, 'may': 1, 'transmitted': 1, 'humans': 2, 'through': 1, 'excreted': 1, 'waste,': 1, 'open': 1, 'wounds,': 1, 'contaminated': 1, 'water.': 1, 'A': 2, '2013': 1, 'study': 3, 'found': 3, 'that': 4, 'Reptile-Associated': 1, 'Salmonella': 1, '(RAS)': 1, 'most': 1, 'common': 1, 'young': 1, 'children': 1, 'who': 1, 'had': 1, 'contact': 1, 'invasive': 3, 'pythons,': 1, 'symptoms': 1, '\"sepsis,': 1, 'meningitis,': 1, 'bone': 1, 'joint': 1, 'infection\".': 1, 'also': 2, 'integrated': 1, 'into': 2, 'some': 1, 'aspects': 1, 'belief': 3, 'often': 1, 'added': 1, 'risk': 2, 'contacting': 1, 'zoonotic': 2, 'diseases.': 1, 'bodies': 1, 'blood': 1, 'used': 3, 'traditional': 2, 'medicines': 1, 'other': 1, 'uses': 1, 'well,': 1, 'one': 1, 'in-depth': 1, 'all': 1, 'animals': 1, 'by': 2, 'Yorubas': 1, 'Nigeria': 2, 'medicine': 1, 'cure': 1, 'rheumatism,': 1, 'poison,': 1, 'appeasing': 1, 'witches,': 1, 'accident': 1, 'prevention.': 1, 'habitats,': 1, 'diets,': 1, 'invasion': 1, 'new': 2, 'areas': 1, 'impact': 1, 'human': 1, 'prosperity.': 1, 'University': 1, 'Florida': 1, 'Institute': 1, 'Food': 1, 'Agriculture': 1, 'Sciences': 1, 'Burmese': 1, 'Python,': 1, 'species,': 1, 'enters': 1, 'habitats': 1, 'eats': 1, 'increasing': 1, 'number': 1, 'mammals,': 1, 'leaving': 1, 'limited': 1, 'species': 2, 'mosquitoes': 1, 'bite,': 1, 'forcing': 1, 'them': 1, 'bite': 1, 'disease-carrying': 1, 'hispid': 1, 'cotton': 1, 'rats': 1, 'then': 1, 'infect': 1, 'Everglades': 1, 'Virus,': 1, 'dangerous': 1, 'infection': 1, 'carried': 1, 'few': 1, 'animals.[22]': 1, 'direct': 1, 'human-python': 1, 'interactions': 1, 'potentially': 1, 'dangerous,': 1, 'always': 1, 'concern,': 1, 'whether': 1, 'considering': 1, 'medical': 1, 'use': 1, 'or': 1, 'when': 1, 'addressing': 1, 'impacts': 1, 'Florida.': 1} \n",
      "\n",
      "The most frequently occuring word is:  and \n",
      "The frequency of the word is:  21\n"
     ]
    }
   ],
   "source": [
    "# Realtime scenario\n",
    "#note- if the execution stops in between,  press esc 00-> start kernel\n",
    "filename =  input('enter the file name: ')\n",
    "#f =open('./Documents/Python/Anaconda/Dict_sample.txt','r')\n",
    "f =open(filename,'r')\n",
    "\n",
    "counts = dict()\n",
    "for line in f:\n",
    "    words=line.split()\n",
    "    for word in words:\n",
    "        counts[word] = counts.get(word, 0) + 1\n",
    "print(counts,'\\n')\n",
    "\n",
    "#this is the loop for finding the most frequently occuring word along with its frequency\n",
    "bigcount = None\n",
    "bigword = None\n",
    "for word, count in counts.items():\n",
    "    #in the if below, it is checking if bigcount is none , if yes, do the assignment, if count > bigcount, then assign the value of count to bigcount\n",
    "    if bigcount is None or count > bigcount:    # here it is \n",
    "        bigword = word\n",
    "        bigcount = count\n",
    "print('The most frequently occuring word is: ',bigword,'\\nThe frequency of the word is: ',bigcount)"
   ]
  },
  {
   "cell_type": "code",
   "execution_count": null,
   "metadata": {},
   "outputs": [],
   "source": []
  }
 ],
 "metadata": {
  "kernelspec": {
   "display_name": "Python 3",
   "language": "python",
   "name": "python3"
  },
  "language_info": {
   "codemirror_mode": {
    "name": "ipython",
    "version": 3
   },
   "file_extension": ".py",
   "mimetype": "text/x-python",
   "name": "python",
   "nbconvert_exporter": "python",
   "pygments_lexer": "ipython3",
   "version": "3.8.5"
  }
 },
 "nbformat": 4,
 "nbformat_minor": 4
}
