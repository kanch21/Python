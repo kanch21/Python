{
 "cells": [
  {
   "cell_type": "code",
   "execution_count": 6,
   "metadata": {},
   "outputs": [
    {
     "name": "stdout",
     "output_type": "stream",
     "text": [
      "('kanchan', 'sourav', 'sharma')\n"
     ]
    },
    {
     "data": {
      "text/plain": [
       "['__add__',\n",
       " '__class__',\n",
       " '__contains__',\n",
       " '__delattr__',\n",
       " '__dir__',\n",
       " '__doc__',\n",
       " '__eq__',\n",
       " '__format__',\n",
       " '__ge__',\n",
       " '__getattribute__',\n",
       " '__getitem__',\n",
       " '__getnewargs__',\n",
       " '__gt__',\n",
       " '__hash__',\n",
       " '__init__',\n",
       " '__init_subclass__',\n",
       " '__iter__',\n",
       " '__le__',\n",
       " '__len__',\n",
       " '__lt__',\n",
       " '__mul__',\n",
       " '__ne__',\n",
       " '__new__',\n",
       " '__reduce__',\n",
       " '__reduce_ex__',\n",
       " '__repr__',\n",
       " '__rmul__',\n",
       " '__setattr__',\n",
       " '__sizeof__',\n",
       " '__str__',\n",
       " '__subclasshook__',\n",
       " 'count',\n",
       " 'index']"
      ]
     },
     "execution_count": 6,
     "metadata": {},
     "output_type": "execute_result"
    }
   ],
   "source": [
    "#Tuples are a lot like lists\n",
    "#they are enclosed by ()\n",
    "#Tuples are immutable whereas lists are mutable\n",
    "\n",
    "names=('kanchan', 'sourav', 'sharma')\n",
    "print(names)\n",
    "\n",
    "\n",
    "#names[2] ='chowdhari'\n",
    "#output- TypeError: 'tuple' object does not support item assignment\n",
    "\n",
    "#note- anything that we can perform on list to modify it CANNOT be done on tuples.\n",
    "#eg- sort, reverse, append - do not work with tuples\n",
    "#its more like a read-only list\n",
    "\n",
    "# l= list()\n",
    "# dir(l)\n",
    "\n",
    "\n",
    "t = tuple()\n",
    "dir(t)\n",
    "\n",
    "#The reason for choosing tuples over lists is that, it tuples are simpler and more efficient in terms of memory usage and performance than lists.\n",
    "#So when we think of making temporary variables, we make use of tuples"
   ]
  },
  {
   "cell_type": "code",
   "execution_count": 7,
   "metadata": {},
   "outputs": [
    {
     "name": "stdout",
     "output_type": "stream",
     "text": [
      "4\n"
     ]
    }
   ],
   "source": [
    "#tuples and assingment\n",
    "# in this case we are basically assigning 4 to x variable and 'fred to y variable'\n",
    "(x,y) = (4,'fred')\n",
    "print(x)"
   ]
  },
  {
   "cell_type": "code",
   "execution_count": 11,
   "metadata": {},
   "outputs": [
    {
     "name": "stdout",
     "output_type": "stream",
     "text": [
      "{'kanchan': 2, 'sourav': 3}\n",
      "kanchan 2\n",
      "sourav 3\n",
      "dict_items([('kanchan', 2), ('sourav', 3)])\n"
     ]
    }
   ],
   "source": [
    "#tuples and dictionaries\n",
    "d = dict()\n",
    "d['kanchan'] = 2\n",
    "d['sourav'] = 3\n",
    "print(d)\n",
    "\n",
    "for (k,v) in d.items():\n",
    "    print(k,v)\n",
    "    \n",
    "tups = d.items()\n",
    "print(tups)"
   ]
  }
 ],
 "metadata": {
  "kernelspec": {
   "display_name": "Python 3",
   "language": "python",
   "name": "python3"
  },
  "language_info": {
   "codemirror_mode": {
    "name": "ipython",
    "version": 3
   },
   "file_extension": ".py",
   "mimetype": "text/x-python",
   "name": "python",
   "nbconvert_exporter": "python",
   "pygments_lexer": "ipython3",
   "version": "3.8.5"
  }
 },
 "nbformat": 4,
 "nbformat_minor": 4
}
