{
 "cells": [
  {
   "cell_type": "code",
   "execution_count": 2,
   "metadata": {},
   "outputs": [
    {
     "name": "stdout",
     "output_type": "stream",
     "text": [
      "I am constructed!\n",
      "value so far 2\n",
      "value so far 4\n",
      "I am destructed! 4\n",
      "obj contains: 40\n"
     ]
    }
   ],
   "source": [
    "#Class and objects\n",
    "#eg- x = list()   --> x ia the object of class list\n",
    "# we can use dir() to find the methods used for that class\n",
    "#Constructors- are used to initialise the variables values while creaing objects\n",
    "#self is an alias of object\n",
    "\n",
    "\n",
    "class PartyAnimal:\n",
    "    x = 0\n",
    "    \n",
    "    def __init__(self):\n",
    "        print('I am constructed!')\n",
    "        \n",
    "    def party(self):\n",
    "        self.x = self.x +2\n",
    "        print('value so far',self.x)\n",
    "        \n",
    "    def __del__(self):\n",
    "        print('I am destructed!',self.x)\n",
    "        \n",
    "obj = PartyAnimal()\n",
    "obj.party()\n",
    "obj.party()\n",
    "obj = 40\n",
    "print('obj contains:',obj)\n"
   ]
  }
 ],
 "metadata": {
  "kernelspec": {
   "display_name": "Python 3",
   "language": "python",
   "name": "python3"
  },
  "language_info": {
   "codemirror_mode": {
    "name": "ipython",
    "version": 3
   },
   "file_extension": ".py",
   "mimetype": "text/x-python",
   "name": "python",
   "nbconvert_exporter": "python",
   "pygments_lexer": "ipython3",
   "version": "3.8.5"
  }
 },
 "nbformat": 4,
 "nbformat_minor": 4
}
